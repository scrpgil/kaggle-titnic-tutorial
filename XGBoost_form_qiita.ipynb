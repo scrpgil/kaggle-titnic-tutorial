{
 "cells": [
  {
   "cell_type": "code",
   "execution_count": 1,
   "metadata": {},
   "outputs": [
    {
     "data": {
      "text/plain": [
       "'\\nvery simple implementation with XGBoost\\n\\n- Fare, Embarkedの欠損値補完\\n- SibSp + Parchで家族の人数を計算\\n- Sex, Embarked, Pclassはダミー変数化\\n- 扱いが難しそうなTicket, Cabinは破棄\\n- XGBoostを使用\\n\\n'"
      ]
     },
     "execution_count": 1,
     "metadata": {},
     "output_type": "execute_result"
    }
   ],
   "source": [
    "\"\"\"\n",
    "very simple implementation with XGBoost\n",
    "\n",
    "- Fare, Embarkedの欠損値補完\n",
    "- SibSp + Parchで家族の人数を計算\n",
    "- Sex, Embarked, Pclassはダミー変数化\n",
    "- 扱いが難しそうなTicket, Cabinは破棄\n",
    "- XGBoostを使用\n",
    "\n",
    "\"\"\""
   ]
  },
  {
   "cell_type": "code",
   "execution_count": 2,
   "metadata": {},
   "outputs": [],
   "source": [
    "import pandas as pd\n",
    "import numpy as np"
   ]
  },
  {
   "cell_type": "code",
   "execution_count": 3,
   "metadata": {},
   "outputs": [],
   "source": [
    "#Load data\n",
    "train = pd.read_csv(\"./input/train.csv\",header=0)\n",
    "test = pd.read_csv(\"./input/test.csv\",header=0)"
   ]
  },
  {
   "cell_type": "code",
   "execution_count": 4,
   "metadata": {},
   "outputs": [],
   "source": [
    "#Fill the missing values \n",
    "train['Fare'] = train['Fare'].fillna(train['Fare'].median())\n",
    "test['Fare'] = test['Fare'].fillna(train['Fare'].median())"
   ]
  },
  {
   "cell_type": "code",
   "execution_count": 5,
   "metadata": {},
   "outputs": [],
   "source": [
    "train['Embarked'] = train['Embarked'].fillna('S')# S is the most common symbol\n",
    "test['Embarked'] = test['Embarked'].fillna('S')"
   ]
  },
  {
   "cell_type": "code",
   "execution_count": 6,
   "metadata": {},
   "outputs": [],
   "source": [
    "#Calc number of family\n",
    "train['family'] = train['SibSp'] + train['Parch']\n",
    "test['family'] = test['SibSp'] + test['Parch']"
   ]
  },
  {
   "cell_type": "code",
   "execution_count": 7,
   "metadata": {},
   "outputs": [],
   "source": [
    "#Convert categorical variable into dummy/indicator variables\n",
    "def add_dummy(df):\n",
    "    df['Pclass'] = df['Pclass'].astype(np.str)\n",
    "    temp = pd.get_dummies(df[['Sex','Embarked','Pclass']], drop_first = False)\n",
    "    temp['PassengerId'] = df['PassengerId']\n",
    "    return pd.merge(df, temp)\n",
    "train = add_dummy(train)\n",
    "test = add_dummy(test)"
   ]
  },
  {
   "cell_type": "code",
   "execution_count": 8,
   "metadata": {},
   "outputs": [
    {
     "name": "stdout",
     "output_type": "stream",
     "text": [
      "         Fare  family  Sex_female  Sex_male  Embarked_C  Embarked_Q  \\\n",
      "0      7.2500       1           0         1           0           0   \n",
      "1     71.2833       1           1         0           1           0   \n",
      "2      7.9250       0           1         0           0           0   \n",
      "3     53.1000       1           1         0           0           0   \n",
      "4      8.0500       0           0         1           0           0   \n",
      "5      8.4583       0           0         1           0           1   \n",
      "6     51.8625       0           0         1           0           0   \n",
      "7     21.0750       4           0         1           0           0   \n",
      "8     11.1333       2           1         0           0           0   \n",
      "9     30.0708       1           1         0           1           0   \n",
      "10    16.7000       2           1         0           0           0   \n",
      "11    26.5500       0           1         0           0           0   \n",
      "12     8.0500       0           0         1           0           0   \n",
      "13    31.2750       6           0         1           0           0   \n",
      "14     7.8542       0           1         0           0           0   \n",
      "15    16.0000       0           1         0           0           0   \n",
      "16    29.1250       5           0         1           0           1   \n",
      "17    13.0000       0           0         1           0           0   \n",
      "18    18.0000       1           1         0           0           0   \n",
      "19     7.2250       0           1         0           1           0   \n",
      "20    26.0000       0           0         1           0           0   \n",
      "21    13.0000       0           0         1           0           0   \n",
      "22     8.0292       0           1         0           0           1   \n",
      "23    35.5000       0           0         1           0           0   \n",
      "24    21.0750       4           1         0           0           0   \n",
      "25    31.3875       6           1         0           0           0   \n",
      "26     7.2250       0           0         1           1           0   \n",
      "27   263.0000       5           0         1           0           0   \n",
      "28     7.8792       0           1         0           0           1   \n",
      "29     7.8958       0           0         1           0           0   \n",
      "..        ...     ...         ...       ...         ...         ...   \n",
      "861   11.5000       1           0         1           0           0   \n",
      "862   25.9292       0           1         0           0           0   \n",
      "863   69.5500      10           1         0           0           0   \n",
      "864   13.0000       0           0         1           0           0   \n",
      "865   13.0000       0           1         0           0           0   \n",
      "866   13.8583       1           1         0           1           0   \n",
      "867   50.4958       0           0         1           0           0   \n",
      "868    9.5000       0           0         1           0           0   \n",
      "869   11.1333       2           0         1           0           0   \n",
      "870    7.8958       0           0         1           0           0   \n",
      "871   52.5542       2           1         0           0           0   \n",
      "872    5.0000       0           0         1           0           0   \n",
      "873    9.0000       0           0         1           0           0   \n",
      "874   24.0000       1           1         0           1           0   \n",
      "875    7.2250       0           1         0           1           0   \n",
      "876    9.8458       0           0         1           0           0   \n",
      "877    7.8958       0           0         1           0           0   \n",
      "878    7.8958       0           0         1           0           0   \n",
      "879   83.1583       1           1         0           1           0   \n",
      "880   26.0000       1           1         0           0           0   \n",
      "881    7.8958       0           0         1           0           0   \n",
      "882   10.5167       0           1         0           0           0   \n",
      "883   10.5000       0           0         1           0           0   \n",
      "884    7.0500       0           0         1           0           0   \n",
      "885   29.1250       5           1         0           0           1   \n",
      "886   13.0000       0           0         1           0           0   \n",
      "887   30.0000       0           1         0           0           0   \n",
      "888   23.4500       3           1         0           0           0   \n",
      "889   30.0000       0           0         1           1           0   \n",
      "890    7.7500       0           0         1           0           1   \n",
      "\n",
      "     Embarked_S  Pclass_1  Pclass_2  Pclass_3  \n",
      "0             1         0         0         1  \n",
      "1             0         1         0         0  \n",
      "2             1         0         0         1  \n",
      "3             1         1         0         0  \n",
      "4             1         0         0         1  \n",
      "5             0         0         0         1  \n",
      "6             1         1         0         0  \n",
      "7             1         0         0         1  \n",
      "8             1         0         0         1  \n",
      "9             0         0         1         0  \n",
      "10            1         0         0         1  \n",
      "11            1         1         0         0  \n",
      "12            1         0         0         1  \n",
      "13            1         0         0         1  \n",
      "14            1         0         0         1  \n",
      "15            1         0         1         0  \n",
      "16            0         0         0         1  \n",
      "17            1         0         1         0  \n",
      "18            1         0         0         1  \n",
      "19            0         0         0         1  \n",
      "20            1         0         1         0  \n",
      "21            1         0         1         0  \n",
      "22            0         0         0         1  \n",
      "23            1         1         0         0  \n",
      "24            1         0         0         1  \n",
      "25            1         0         0         1  \n",
      "26            0         0         0         1  \n",
      "27            1         1         0         0  \n",
      "28            0         0         0         1  \n",
      "29            1         0         0         1  \n",
      "..          ...       ...       ...       ...  \n",
      "861           1         0         1         0  \n",
      "862           1         1         0         0  \n",
      "863           1         0         0         1  \n",
      "864           1         0         1         0  \n",
      "865           1         0         1         0  \n",
      "866           0         0         1         0  \n",
      "867           1         1         0         0  \n",
      "868           1         0         0         1  \n",
      "869           1         0         0         1  \n",
      "870           1         0         0         1  \n",
      "871           1         1         0         0  \n",
      "872           1         1         0         0  \n",
      "873           1         0         0         1  \n",
      "874           0         0         1         0  \n",
      "875           0         0         0         1  \n",
      "876           1         0         0         1  \n",
      "877           1         0         0         1  \n",
      "878           1         0         0         1  \n",
      "879           0         1         0         0  \n",
      "880           1         0         1         0  \n",
      "881           1         0         0         1  \n",
      "882           1         0         0         1  \n",
      "883           1         0         1         0  \n",
      "884           1         0         0         1  \n",
      "885           0         0         0         1  \n",
      "886           1         0         1         0  \n",
      "887           1         1         0         0  \n",
      "888           1         0         0         1  \n",
      "889           0         1         0         0  \n",
      "890           0         0         0         1  \n",
      "\n",
      "[891 rows x 10 columns]\n",
      "         Fare  family  Sex_female  Sex_male  Embarked_C  Embarked_Q  \\\n",
      "0      7.8292       0           0         1           0           1   \n",
      "1      7.0000       1           1         0           0           0   \n",
      "2      9.6875       0           0         1           0           1   \n",
      "3      8.6625       0           0         1           0           0   \n",
      "4     12.2875       2           1         0           0           0   \n",
      "5      9.2250       0           0         1           0           0   \n",
      "6      7.6292       0           1         0           0           1   \n",
      "7     29.0000       2           0         1           0           0   \n",
      "8      7.2292       0           1         0           1           0   \n",
      "9     24.1500       2           0         1           0           0   \n",
      "10     7.8958       0           0         1           0           0   \n",
      "11    26.0000       0           0         1           0           0   \n",
      "12    82.2667       1           1         0           0           0   \n",
      "13    26.0000       1           0         1           0           0   \n",
      "14    61.1750       1           1         0           0           0   \n",
      "15    27.7208       1           1         0           1           0   \n",
      "16    12.3500       0           0         1           0           1   \n",
      "17     7.2250       0           0         1           1           0   \n",
      "18     7.9250       1           1         0           0           0   \n",
      "19     7.2250       0           1         0           1           0   \n",
      "20    59.4000       1           0         1           1           0   \n",
      "21     3.1708       1           0         1           0           0   \n",
      "22    31.6833       0           1         0           0           0   \n",
      "23    61.3792       1           0         1           1           0   \n",
      "24   262.3750       4           1         0           1           0   \n",
      "25    14.5000       1           0         1           0           0   \n",
      "26    61.9792       1           1         0           1           0   \n",
      "27     7.2250       0           0         1           1           0   \n",
      "28    30.5000       0           0         1           0           0   \n",
      "29    21.6792       2           0         1           1           0   \n",
      "..        ...     ...         ...       ...         ...         ...   \n",
      "388    7.7500       0           0         1           0           1   \n",
      "389   21.0750       4           0         1           0           0   \n",
      "390   93.5000       0           0         1           0           0   \n",
      "391   39.4000       1           1         0           0           0   \n",
      "392   20.2500       2           0         1           0           0   \n",
      "393   10.5000       0           0         1           0           0   \n",
      "394   22.0250       4           0         1           0           0   \n",
      "395   60.0000       1           1         0           0           0   \n",
      "396    7.2500       0           0         1           0           1   \n",
      "397   79.2000       2           1         0           1           0   \n",
      "398    7.7750       0           0         1           0           0   \n",
      "399    7.7333       0           0         1           0           1   \n",
      "400  164.8667       0           1         0           0           0   \n",
      "401   21.0000       1           0         1           0           0   \n",
      "402   59.4000       1           1         0           1           0   \n",
      "403   47.1000       0           0         1           0           0   \n",
      "404   27.7208       1           0         1           1           0   \n",
      "405   13.8625       0           0         1           1           0   \n",
      "406   10.5000       1           0         1           0           0   \n",
      "407  211.5000       2           0         1           1           0   \n",
      "408    7.7208       0           1         0           0           1   \n",
      "409   13.7750       2           1         0           0           0   \n",
      "410    7.7500       0           1         0           0           1   \n",
      "411   90.0000       1           1         0           0           1   \n",
      "412    7.7750       0           1         0           0           0   \n",
      "413    8.0500       0           0         1           0           0   \n",
      "414  108.9000       0           1         0           1           0   \n",
      "415    7.2500       0           0         1           0           0   \n",
      "416    8.0500       0           0         1           0           0   \n",
      "417   22.3583       2           0         1           1           0   \n",
      "\n",
      "     Embarked_S  Pclass_1  Pclass_2  Pclass_3  \n",
      "0             0         0         0         1  \n",
      "1             1         0         0         1  \n",
      "2             0         0         1         0  \n",
      "3             1         0         0         1  \n",
      "4             1         0         0         1  \n",
      "5             1         0         0         1  \n",
      "6             0         0         0         1  \n",
      "7             1         0         1         0  \n",
      "8             0         0         0         1  \n",
      "9             1         0         0         1  \n",
      "10            1         0         0         1  \n",
      "11            1         1         0         0  \n",
      "12            1         1         0         0  \n",
      "13            1         0         1         0  \n",
      "14            1         1         0         0  \n",
      "15            0         0         1         0  \n",
      "16            0         0         1         0  \n",
      "17            0         0         0         1  \n",
      "18            1         0         0         1  \n",
      "19            0         0         0         1  \n",
      "20            0         1         0         0  \n",
      "21            1         0         0         1  \n",
      "22            1         1         0         0  \n",
      "23            0         1         0         0  \n",
      "24            0         1         0         0  \n",
      "25            1         0         0         1  \n",
      "26            0         1         0         0  \n",
      "27            0         0         0         1  \n",
      "28            1         1         0         0  \n",
      "29            0         0         0         1  \n",
      "..          ...       ...       ...       ...  \n",
      "388           0         0         0         1  \n",
      "389           1         0         0         1  \n",
      "390           1         1         0         0  \n",
      "391           1         1         0         0  \n",
      "392           1         0         0         1  \n",
      "393           1         0         1         0  \n",
      "394           1         0         0         1  \n",
      "395           1         1         0         0  \n",
      "396           0         0         0         1  \n",
      "397           0         1         0         0  \n",
      "398           1         0         0         1  \n",
      "399           0         0         0         1  \n",
      "400           1         1         0         0  \n",
      "401           1         0         1         0  \n",
      "402           0         1         0         0  \n",
      "403           1         1         0         0  \n",
      "404           0         1         0         0  \n",
      "405           0         0         1         0  \n",
      "406           1         0         1         0  \n",
      "407           0         1         0         0  \n",
      "408           0         0         0         1  \n",
      "409           1         0         0         1  \n",
      "410           0         0         0         1  \n",
      "411           0         1         0         0  \n",
      "412           1         0         0         1  \n",
      "413           1         0         0         1  \n",
      "414           0         1         0         0  \n",
      "415           1         0         0         1  \n",
      "416           1         0         0         1  \n",
      "417           0         0         0         1  \n",
      "\n",
      "[418 rows x 10 columns]\n"
     ]
    },
    {
     "name": "stderr",
     "output_type": "stream",
     "text": [
      "/anaconda2/envs/py37/lib/python3.7/site-packages/ipykernel_launcher.py:9: FutureWarning: Method .as_matrix will be removed in a future version. Use .values instead.\n",
      "  if __name__ == '__main__':\n"
     ]
    }
   ],
   "source": [
    "#Drop unnecessary feature\n",
    "def get_feature_mat(df):\n",
    "    temp = df.drop(columns=['PassengerId','Name','Sex','SibSp','Parch','Ticket','Embarked','Age','Cabin','Pclass'])\n",
    "    try:\n",
    "        temp = temp.drop(columns=['Survived'])\n",
    "    except:\n",
    "        pass\n",
    "    print (temp)\n",
    "    return temp.as_matrix()\n",
    "x_train = get_feature_mat(train)\n",
    "x_test = get_feature_mat(test)"
   ]
  },
  {
   "cell_type": "code",
   "execution_count": 9,
   "metadata": {},
   "outputs": [
    {
     "name": "stderr",
     "output_type": "stream",
     "text": [
      "/anaconda2/envs/py37/lib/python3.7/site-packages/ipykernel_launcher.py:1: FutureWarning: Method .as_matrix will be removed in a future version. Use .values instead.\n",
      "  \"\"\"Entry point for launching an IPython kernel.\n"
     ]
    }
   ],
   "source": [
    "y_train = train['Survived'].as_matrix()\n"
   ]
  },
  {
   "cell_type": "code",
   "execution_count": 10,
   "metadata": {},
   "outputs": [],
   "source": [
    "#Fit and Predict\n",
    "from xgboost import XGBClassifier\n",
    "xgb = XGBClassifier(max_depth=3, learning_rate=0.1, n_estimators=100)\n",
    "xgb.fit(x_train, y_train)\n",
    "y_test_xgb = xgb.predict(x_test)"
   ]
  },
  {
   "cell_type": "code",
   "execution_count": 11,
   "metadata": {},
   "outputs": [],
   "source": [
    "#Generate timestamp\n",
    "from datetime import datetime, timedelta, timezone\n",
    "JST = timezone(timedelta(hours=+9), 'JST')\n",
    "ts = datetime.now(JST).strftime('%y%m%d%H%M')"
   ]
  },
  {
   "cell_type": "code",
   "execution_count": 12,
   "metadata": {},
   "outputs": [],
   "source": [
    "#Save\n",
    "test[\"Survived\"] = y_test_xgb.astype(np.int)\n",
    "test[[\"PassengerId\",\"Survived\"]].to_csv(('submit_'+ts+'.csv'),index=False)"
   ]
  },
  {
   "cell_type": "code",
   "execution_count": 13,
   "metadata": {},
   "outputs": [
    {
     "data": {
      "text/plain": [
       "0    0\n",
       "1    1\n",
       "2    0\n",
       "3    0\n",
       "4    1\n",
       "Name: Survived, dtype: int64"
      ]
     },
     "execution_count": 13,
     "metadata": {},
     "output_type": "execute_result"
    }
   ],
   "source": [
    "test[\"Survived\"].head()\n"
   ]
  },
  {
   "cell_type": "code",
   "execution_count": null,
   "metadata": {},
   "outputs": [],
   "source": []
  },
  {
   "cell_type": "code",
   "execution_count": null,
   "metadata": {},
   "outputs": [],
   "source": []
  }
 ],
 "metadata": {
  "kernelspec": {
   "display_name": "Python 3",
   "language": "python",
   "name": "python3"
  },
  "language_info": {
   "codemirror_mode": {
    "name": "ipython",
    "version": 3
   },
   "file_extension": ".py",
   "mimetype": "text/x-python",
   "name": "python",
   "nbconvert_exporter": "python",
   "pygments_lexer": "ipython3",
   "version": "3.7.1"
  }
 },
 "nbformat": 4,
 "nbformat_minor": 2
}
